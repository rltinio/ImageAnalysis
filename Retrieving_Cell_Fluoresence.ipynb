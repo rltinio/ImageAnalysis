{
 "cells": [
  {
   "cell_type": "code",
   "execution_count": 2,
   "metadata": {},
   "outputs": [
    {
     "name": "stdout",
     "output_type": "stream",
     "text": [
      "Current Working Directory: /Users/raphaeltinio/Lab Analysis MAC/ImageAnalysis\n"
     ]
    }
   ],
   "source": [
    "import os\n",
    "current_directory = os.getcwd()\n",
    "print(f\"Current Working Directory: {current_directory}\")\n",
    "\n",
    "from Tusc5ImageUtils import *\n",
    "import numpy as np\n",
    "from urllib.parse import urlparse\n",
    "import matplotlib.pyplot as plt\n",
    "import matplotlib as mpl\n",
    "from skimage import exposure\n",
    "mpl.rcParams['figure.dpi'] = 300\n",
    "from cellpose import utils, io, plot, models, denoise\n",
    "from scipy.ndimage import binary_erosion, binary_fill_holes, center_of_mass\n",
    "from scipy.signal import find_peaks\n",
    "import subprocess\n",
    "import pandas as pd\n",
    "import nd2\n",
    "from skimage.measure import regionprops"
   ]
  },
  {
   "cell_type": "code",
   "execution_count": 9,
   "metadata": {},
   "outputs": [],
   "source": [
    "### Directory Configuration ###\n",
    "\n",
    "parent_directory = os.path.dirname(current_directory) # Parent directory\n",
    "test_stacks_directory = os.path.join(parent_directory, 'Test Stacks')\n",
    "\n",
    "model_path_dapi = os.path.join(parent_directory, 'ImageAnalysis/cellpose_models/T5_DAPI_V1')\n",
    "img_path = os.path.join(test_stacks_directory, '2007R_GLUT1_647_WGA_594_0002.nd2')"
   ]
  },
  {
   "cell_type": "code",
   "execution_count": 63,
   "metadata": {},
   "outputs": [
    {
     "name": "stderr",
     "output_type": "stream",
     "text": [
      "/var/folders/sl/syqsj8q94yn7kbv8l50mtwdw0000gn/T/ipykernel_48690/3179133809.py:3: UserWarning: ND2File file not closed before garbage collection. Please use `with ND2File(...):` context or call `.close()`.\n",
      "  f = nd2.ND2File(img_path)\n"
     ]
    }
   ],
   "source": [
    "### Image Insertion ###\n",
    "\n",
    "f = nd2.ND2File(img_path)\n",
    "z_sep = f.voxel_size().z\n",
    "image = f.asarray()\n",
    "\n",
    "DAPI_stack = to_8bit(image[:,0,:,:].copy())\n",
    "eGFP_stack = to_8bit(image[:,1,:,:].copy())\n",
    "WGA_stack = to_8bit(image[:,2,:,:].copy())\n",
    "GLUT1_stack = to_8bit(image[:,3,:,:].copy())\n",
    "\n",
    "mp_DAPI = max_proj(DAPI_stack)\n",
    "model = models.CellposeModel(pretrained_model=model_path_dapi)\n",
    "DAPI_masks, flows, styles = model.eval(mp_DAPI, diameter=None, channels=[0,0])"
   ]
  },
  {
   "cell_type": "markdown",
   "metadata": {},
   "source": [
    "# Cell Fluoresence Retrieval"
   ]
  },
  {
   "cell_type": "code",
   "execution_count": 16,
   "metadata": {},
   "outputs": [],
   "source": [
    "### Directory Configuration ###\n",
    "model_path_wga = os.path.join(parent_directory, 'ImageAnalysis/cellpose_models/T5_DAPI_V2')"
   ]
  },
  {
   "cell_type": "code",
   "execution_count": 131,
   "metadata": {},
   "outputs": [
    {
     "name": "stdout",
     "output_type": "stream",
     "text": [
      "No mask found\n",
      "No mask found\n"
     ]
    },
    {
     "ename": "KeyboardInterrupt",
     "evalue": "",
     "output_type": "error",
     "traceback": [
      "\u001b[0;31m---------------------------------------------------------------------------\u001b[0m",
      "\u001b[0;31mKeyboardInterrupt\u001b[0m                         Traceback (most recent call last)",
      "Cell \u001b[0;32mIn[131], line 110\u001b[0m\n\u001b[1;32m    106\u001b[0m     \u001b[38;5;28;01mreturn\u001b[39;00m df\n\u001b[1;32m    108\u001b[0m \u001b[38;5;66;03m# Example usage:\u001b[39;00m\n\u001b[1;32m    109\u001b[0m \u001b[38;5;66;03m# Assuming 'image' and 'masks' are already defined as numpy arrays and model_path_dapi is set\u001b[39;00m\n\u001b[0;32m--> 110\u001b[0m df \u001b[38;5;241m=\u001b[39m \u001b[43mcreate_dataframe\u001b[49m\u001b[43m(\u001b[49m\u001b[43mimage\u001b[49m\u001b[43m,\u001b[49m\u001b[43m \u001b[49m\u001b[43mDAPI_masks\u001b[49m\u001b[43m)\u001b[49m\n",
      "Cell \u001b[0;32mIn[131], line 90\u001b[0m, in \u001b[0;36mcreate_dataframe\u001b[0;34m(image, masks, channels, z_sep)\u001b[0m\n\u001b[1;32m     87\u001b[0m sq_stacks \u001b[38;5;241m=\u001b[39m get_sq_stacks(DAPI_stack, WGA_stack, eGFP_stack, GLUT1_stack, single_mask, z_sep\u001b[38;5;241m=\u001b[39m z_sep)  \u001b[38;5;66;03m# Example z_sep\u001b[39;00m\n\u001b[1;32m     89\u001b[0m \u001b[38;5;66;03m# Get the model traces\u001b[39;00m\n\u001b[0;32m---> 90\u001b[0m trace_results \u001b[38;5;241m=\u001b[39m \u001b[43mmodel_traces\u001b[49m\u001b[43m(\u001b[49m\u001b[43msq_stacks\u001b[49m\u001b[43m,\u001b[49m\u001b[43m \u001b[49m\u001b[43msingle_mask\u001b[49m\u001b[43m,\u001b[49m\u001b[43m \u001b[49m\u001b[43mz_sep\u001b[49m\u001b[38;5;241;43m=\u001b[39;49m\u001b[43mz_sep\u001b[49m\u001b[43m)\u001b[49m  \u001b[38;5;66;03m# Example z_sep\u001b[39;00m\n\u001b[1;32m     92\u001b[0m \u001b[38;5;66;03m# Append data to lists\u001b[39;00m\n\u001b[1;32m     93\u001b[0m \u001b[38;5;28;01mfor\u001b[39;00m channel_name, summed_values \u001b[38;5;129;01min\u001b[39;00m trace_results\u001b[38;5;241m.\u001b[39mitems():\n",
      "Cell \u001b[0;32mIn[131], line 31\u001b[0m, in \u001b[0;36mmodel_traces\u001b[0;34m(sq_stacks, single_mask, z_sep)\u001b[0m\n\u001b[1;32m     29\u001b[0m \u001b[38;5;66;03m# 1. Run model WGA slice\u001b[39;00m\n\u001b[1;32m     30\u001b[0m model \u001b[38;5;241m=\u001b[39m models\u001b[38;5;241m.\u001b[39mCellposeModel(gpu\u001b[38;5;241m=\u001b[39m\u001b[38;5;28;01mTrue\u001b[39;00m, pretrained_model\u001b[38;5;241m=\u001b[39mmodel_path_dapi)\n\u001b[0;32m---> 31\u001b[0m masks, flows, styles \u001b[38;5;241m=\u001b[39m \u001b[43mmodel\u001b[49m\u001b[38;5;241;43m.\u001b[39;49m\u001b[43meval\u001b[49m\u001b[43m(\u001b[49m\u001b[43msq_WGA_slice\u001b[49m\u001b[43m,\u001b[49m\u001b[43m \u001b[49m\u001b[43mdiameter\u001b[49m\u001b[38;5;241;43m=\u001b[39;49m\u001b[38;5;28;43;01mNone\u001b[39;49;00m\u001b[43m,\u001b[49m\u001b[43m \u001b[49m\u001b[43mchannels\u001b[49m\u001b[38;5;241;43m=\u001b[39;49m\u001b[43m[\u001b[49m\u001b[38;5;241;43m0\u001b[39;49m\u001b[43m,\u001b[49m\u001b[38;5;241;43m0\u001b[39;49m\u001b[43m]\u001b[49m\u001b[43m)\u001b[49m\n\u001b[1;32m     33\u001b[0m \u001b[38;5;28;01mif\u001b[39;00m \u001b[38;5;28mlen\u001b[39m(np\u001b[38;5;241m.\u001b[39munique(masks)) \u001b[38;5;241m<\u001b[39m \u001b[38;5;241m2\u001b[39m:\n\u001b[1;32m     34\u001b[0m     \u001b[38;5;28mprint\u001b[39m(\u001b[38;5;124m'\u001b[39m\u001b[38;5;124mNo mask found\u001b[39m\u001b[38;5;124m'\u001b[39m)\n",
      "File \u001b[0;32m~/opt/anaconda3/lib/python3.9/site-packages/cellpose/models.py:449\u001b[0m, in \u001b[0;36mCellposeModel.eval\u001b[0;34m(self, x, batch_size, resample, channels, channel_axis, z_axis, normalize, invert, rescale, diameter, flow_threshold, cellprob_threshold, do_3D, anisotropy, stitch_threshold, min_size, niter, augment, tile, tile_overlap, bsize, interp, compute_masks, progress)\u001b[0m\n\u001b[1;32m    446\u001b[0m     diameter \u001b[38;5;241m=\u001b[39m \u001b[38;5;28mself\u001b[39m\u001b[38;5;241m.\u001b[39mdiam_labels\n\u001b[1;32m    447\u001b[0m     rescale \u001b[38;5;241m=\u001b[39m \u001b[38;5;28mself\u001b[39m\u001b[38;5;241m.\u001b[39mdiam_mean \u001b[38;5;241m/\u001b[39m diameter\n\u001b[0;32m--> 449\u001b[0m masks, styles, dP, cellprob, p \u001b[38;5;241m=\u001b[39m \u001b[38;5;28;43mself\u001b[39;49m\u001b[38;5;241;43m.\u001b[39;49m\u001b[43m_run_cp\u001b[49m\u001b[43m(\u001b[49m\n\u001b[1;32m    450\u001b[0m \u001b[43m    \u001b[49m\u001b[43mx\u001b[49m\u001b[43m,\u001b[49m\u001b[43m \u001b[49m\u001b[43mcompute_masks\u001b[49m\u001b[38;5;241;43m=\u001b[39;49m\u001b[43mcompute_masks\u001b[49m\u001b[43m,\u001b[49m\u001b[43m \u001b[49m\u001b[43mnormalize\u001b[49m\u001b[38;5;241;43m=\u001b[39;49m\u001b[43mnormalize\u001b[49m\u001b[43m,\u001b[49m\u001b[43m \u001b[49m\u001b[43minvert\u001b[49m\u001b[38;5;241;43m=\u001b[39;49m\u001b[43minvert\u001b[49m\u001b[43m,\u001b[49m\n\u001b[1;32m    451\u001b[0m \u001b[43m    \u001b[49m\u001b[43mrescale\u001b[49m\u001b[38;5;241;43m=\u001b[39;49m\u001b[43mrescale\u001b[49m\u001b[43m,\u001b[49m\u001b[43m \u001b[49m\u001b[43mresample\u001b[49m\u001b[38;5;241;43m=\u001b[39;49m\u001b[43mresample\u001b[49m\u001b[43m,\u001b[49m\u001b[43m \u001b[49m\u001b[43maugment\u001b[49m\u001b[38;5;241;43m=\u001b[39;49m\u001b[43maugment\u001b[49m\u001b[43m,\u001b[49m\u001b[43m \u001b[49m\u001b[43mtile\u001b[49m\u001b[38;5;241;43m=\u001b[39;49m\u001b[43mtile\u001b[49m\u001b[43m,\u001b[49m\n\u001b[1;32m    452\u001b[0m \u001b[43m    \u001b[49m\u001b[43mtile_overlap\u001b[49m\u001b[38;5;241;43m=\u001b[39;49m\u001b[43mtile_overlap\u001b[49m\u001b[43m,\u001b[49m\u001b[43m \u001b[49m\u001b[43mbsize\u001b[49m\u001b[38;5;241;43m=\u001b[39;49m\u001b[43mbsize\u001b[49m\u001b[43m,\u001b[49m\u001b[43m \u001b[49m\u001b[43mflow_threshold\u001b[49m\u001b[38;5;241;43m=\u001b[39;49m\u001b[43mflow_threshold\u001b[49m\u001b[43m,\u001b[49m\n\u001b[1;32m    453\u001b[0m \u001b[43m    \u001b[49m\u001b[43mcellprob_threshold\u001b[49m\u001b[38;5;241;43m=\u001b[39;49m\u001b[43mcellprob_threshold\u001b[49m\u001b[43m,\u001b[49m\u001b[43m \u001b[49m\u001b[43minterp\u001b[49m\u001b[38;5;241;43m=\u001b[39;49m\u001b[43minterp\u001b[49m\u001b[43m,\u001b[49m\u001b[43m \u001b[49m\u001b[43mmin_size\u001b[49m\u001b[38;5;241;43m=\u001b[39;49m\u001b[43mmin_size\u001b[49m\u001b[43m,\u001b[49m\n\u001b[1;32m    454\u001b[0m \u001b[43m    \u001b[49m\u001b[43mdo_3D\u001b[49m\u001b[38;5;241;43m=\u001b[39;49m\u001b[43mdo_3D\u001b[49m\u001b[43m,\u001b[49m\u001b[43m \u001b[49m\u001b[43manisotropy\u001b[49m\u001b[38;5;241;43m=\u001b[39;49m\u001b[43manisotropy\u001b[49m\u001b[43m,\u001b[49m\u001b[43m \u001b[49m\u001b[43mniter\u001b[49m\u001b[38;5;241;43m=\u001b[39;49m\u001b[43mniter\u001b[49m\u001b[43m,\u001b[49m\n\u001b[1;32m    455\u001b[0m \u001b[43m    \u001b[49m\u001b[43mstitch_threshold\u001b[49m\u001b[38;5;241;43m=\u001b[39;49m\u001b[43mstitch_threshold\u001b[49m\u001b[43m)\u001b[49m\n\u001b[1;32m    457\u001b[0m flows \u001b[38;5;241m=\u001b[39m [plot\u001b[38;5;241m.\u001b[39mdx_to_circ(dP), dP, cellprob, p]\n\u001b[1;32m    458\u001b[0m \u001b[38;5;28;01mreturn\u001b[39;00m masks, flows, styles\n",
      "File \u001b[0;32m~/opt/anaconda3/lib/python3.9/site-packages/cellpose/models.py:556\u001b[0m, in \u001b[0;36mCellposeModel._run_cp\u001b[0;34m(self, x, compute_masks, normalize, invert, niter, rescale, resample, augment, tile, tile_overlap, cellprob_threshold, bsize, flow_threshold, min_size, interp, anisotropy, do_3D, stitch_threshold)\u001b[0m\n\u001b[1;32m    553\u001b[0m iterator \u001b[38;5;241m=\u001b[39m trange(nimg, file\u001b[38;5;241m=\u001b[39mtqdm_out,\n\u001b[1;32m    554\u001b[0m                   mininterval\u001b[38;5;241m=\u001b[39m\u001b[38;5;241m30\u001b[39m) \u001b[38;5;28;01mif\u001b[39;00m nimg \u001b[38;5;241m>\u001b[39m \u001b[38;5;241m1\u001b[39m \u001b[38;5;28;01melse\u001b[39;00m \u001b[38;5;28mrange\u001b[39m(nimg)\n\u001b[1;32m    555\u001b[0m \u001b[38;5;28;01mfor\u001b[39;00m i \u001b[38;5;129;01min\u001b[39;00m iterator:\n\u001b[0;32m--> 556\u001b[0m     outputs \u001b[38;5;241m=\u001b[39m \u001b[43mdynamics\u001b[49m\u001b[38;5;241;43m.\u001b[39;49m\u001b[43mresize_and_compute_masks\u001b[49m\u001b[43m(\u001b[49m\n\u001b[1;32m    557\u001b[0m \u001b[43m        \u001b[49m\u001b[43mdP\u001b[49m\u001b[43m[\u001b[49m\u001b[43m:\u001b[49m\u001b[43m,\u001b[49m\u001b[43m \u001b[49m\u001b[43mi\u001b[49m\u001b[43m]\u001b[49m\u001b[43m,\u001b[49m\n\u001b[1;32m    558\u001b[0m \u001b[43m        \u001b[49m\u001b[43mcellprob\u001b[49m\u001b[43m[\u001b[49m\u001b[43mi\u001b[49m\u001b[43m]\u001b[49m\u001b[43m,\u001b[49m\n\u001b[1;32m    559\u001b[0m \u001b[43m        \u001b[49m\u001b[43mniter\u001b[49m\u001b[38;5;241;43m=\u001b[39;49m\u001b[43mniter\u001b[49m\u001b[43m,\u001b[49m\n\u001b[1;32m    560\u001b[0m \u001b[43m        \u001b[49m\u001b[43mcellprob_threshold\u001b[49m\u001b[38;5;241;43m=\u001b[39;49m\u001b[43mcellprob_threshold\u001b[49m\u001b[43m,\u001b[49m\n\u001b[1;32m    561\u001b[0m \u001b[43m        \u001b[49m\u001b[43mflow_threshold\u001b[49m\u001b[38;5;241;43m=\u001b[39;49m\u001b[43mflow_threshold\u001b[49m\u001b[43m,\u001b[49m\n\u001b[1;32m    562\u001b[0m \u001b[43m        \u001b[49m\u001b[43minterp\u001b[49m\u001b[38;5;241;43m=\u001b[39;49m\u001b[43minterp\u001b[49m\u001b[43m,\u001b[49m\n\u001b[1;32m    563\u001b[0m \u001b[43m        \u001b[49m\u001b[43mresize\u001b[49m\u001b[38;5;241;43m=\u001b[39;49m\u001b[43mresize\u001b[49m\u001b[43m,\u001b[49m\n\u001b[1;32m    564\u001b[0m \u001b[43m        \u001b[49m\u001b[43mmin_size\u001b[49m\u001b[38;5;241;43m=\u001b[39;49m\u001b[43mmin_size\u001b[49m\u001b[43m \u001b[49m\u001b[38;5;28;43;01mif\u001b[39;49;00m\u001b[43m \u001b[49m\u001b[43mstitch_threshold\u001b[49m\u001b[43m \u001b[49m\u001b[38;5;241;43m==\u001b[39;49m\u001b[43m \u001b[49m\u001b[38;5;241;43m0\u001b[39;49m\u001b[43m \u001b[49m\u001b[38;5;129;43;01mor\u001b[39;49;00m\u001b[43m \u001b[49m\u001b[43mnimg\u001b[49m\u001b[43m \u001b[49m\u001b[38;5;241;43m==\u001b[39;49m\u001b[43m \u001b[49m\u001b[38;5;241;43m1\u001b[39;49m\u001b[43m \u001b[49m\u001b[38;5;28;43;01melse\u001b[39;49;00m\n\u001b[1;32m    565\u001b[0m \u001b[43m        \u001b[49m\u001b[38;5;241;43m-\u001b[39;49m\u001b[38;5;241;43m1\u001b[39;49m\u001b[43m,\u001b[49m\u001b[43m  \u001b[49m\u001b[38;5;66;43;03m# turn off for 3D stitching\u001b[39;49;00m\n\u001b[1;32m    566\u001b[0m \u001b[43m        \u001b[49m\u001b[43mdevice\u001b[49m\u001b[38;5;241;43m=\u001b[39;49m\u001b[38;5;28;43mself\u001b[39;49m\u001b[38;5;241;43m.\u001b[39;49m\u001b[43mdevice\u001b[49m\u001b[43m \u001b[49m\u001b[38;5;28;43;01mif\u001b[39;49;00m\u001b[43m \u001b[49m\u001b[38;5;28;43mself\u001b[39;49m\u001b[38;5;241;43m.\u001b[39;49m\u001b[43mgpu\u001b[49m\u001b[43m \u001b[49m\u001b[38;5;28;43;01melse\u001b[39;49;00m\u001b[43m \u001b[49m\u001b[38;5;28;43;01mNone\u001b[39;49;00m\u001b[43m)\u001b[49m\n\u001b[1;32m    567\u001b[0m     masks\u001b[38;5;241m.\u001b[39mappend(outputs[\u001b[38;5;241m0\u001b[39m])\n\u001b[1;32m    568\u001b[0m     p\u001b[38;5;241m.\u001b[39mappend(outputs[\u001b[38;5;241m1\u001b[39m])\n",
      "File \u001b[0;32m~/opt/anaconda3/lib/python3.9/site-packages/cellpose/dynamics.py:780\u001b[0m, in \u001b[0;36mresize_and_compute_masks\u001b[0;34m(dP, cellprob, p, niter, cellprob_threshold, flow_threshold, interp, do_3D, min_size, resize, device)\u001b[0m\n\u001b[1;32m    759\u001b[0m \u001b[38;5;28;01mdef\u001b[39;00m \u001b[38;5;21mresize_and_compute_masks\u001b[39m(dP, cellprob, p\u001b[38;5;241m=\u001b[39m\u001b[38;5;28;01mNone\u001b[39;00m, niter\u001b[38;5;241m=\u001b[39m\u001b[38;5;241m200\u001b[39m, cellprob_threshold\u001b[38;5;241m=\u001b[39m\u001b[38;5;241m0.0\u001b[39m,\n\u001b[1;32m    760\u001b[0m                              flow_threshold\u001b[38;5;241m=\u001b[39m\u001b[38;5;241m0.4\u001b[39m, interp\u001b[38;5;241m=\u001b[39m\u001b[38;5;28;01mTrue\u001b[39;00m, do_3D\u001b[38;5;241m=\u001b[39m\u001b[38;5;28;01mFalse\u001b[39;00m, min_size\u001b[38;5;241m=\u001b[39m\u001b[38;5;241m15\u001b[39m,\n\u001b[1;32m    761\u001b[0m                              resize\u001b[38;5;241m=\u001b[39m\u001b[38;5;28;01mNone\u001b[39;00m, device\u001b[38;5;241m=\u001b[39m\u001b[38;5;28;01mNone\u001b[39;00m):\n\u001b[1;32m    762\u001b[0m \u001b[38;5;250m    \u001b[39m\u001b[38;5;124;03m\"\"\"Compute masks using dynamics from dP and cellprob, and resizes masks if resize is not None.\u001b[39;00m\n\u001b[1;32m    763\u001b[0m \n\u001b[1;32m    764\u001b[0m \u001b[38;5;124;03m    Args:\u001b[39;00m\n\u001b[0;32m   (...)\u001b[0m\n\u001b[1;32m    778\u001b[0m \u001b[38;5;124;03m        tuple: A tuple containing the computed masks and the final pixel locations.\u001b[39;00m\n\u001b[1;32m    779\u001b[0m \u001b[38;5;124;03m    \"\"\"\u001b[39;00m\n\u001b[0;32m--> 780\u001b[0m     mask, p \u001b[38;5;241m=\u001b[39m \u001b[43mcompute_masks\u001b[49m\u001b[43m(\u001b[49m\u001b[43mdP\u001b[49m\u001b[43m,\u001b[49m\u001b[43m \u001b[49m\u001b[43mcellprob\u001b[49m\u001b[43m,\u001b[49m\u001b[43m \u001b[49m\u001b[43mp\u001b[49m\u001b[38;5;241;43m=\u001b[39;49m\u001b[43mp\u001b[49m\u001b[43m,\u001b[49m\u001b[43m \u001b[49m\u001b[43mniter\u001b[49m\u001b[38;5;241;43m=\u001b[39;49m\u001b[43mniter\u001b[49m\u001b[43m,\u001b[49m\n\u001b[1;32m    781\u001b[0m \u001b[43m                            \u001b[49m\u001b[43mcellprob_threshold\u001b[49m\u001b[38;5;241;43m=\u001b[39;49m\u001b[43mcellprob_threshold\u001b[49m\u001b[43m,\u001b[49m\n\u001b[1;32m    782\u001b[0m \u001b[43m                            \u001b[49m\u001b[43mflow_threshold\u001b[49m\u001b[38;5;241;43m=\u001b[39;49m\u001b[43mflow_threshold\u001b[49m\u001b[43m,\u001b[49m\u001b[43m \u001b[49m\u001b[43minterp\u001b[49m\u001b[38;5;241;43m=\u001b[39;49m\u001b[43minterp\u001b[49m\u001b[43m,\u001b[49m\u001b[43m \u001b[49m\u001b[43mdo_3D\u001b[49m\u001b[38;5;241;43m=\u001b[39;49m\u001b[43mdo_3D\u001b[49m\u001b[43m,\u001b[49m\n\u001b[1;32m    783\u001b[0m \u001b[43m                            \u001b[49m\u001b[43mmin_size\u001b[49m\u001b[38;5;241;43m=\u001b[39;49m\u001b[43mmin_size\u001b[49m\u001b[43m,\u001b[49m\u001b[43m \u001b[49m\u001b[43mdevice\u001b[49m\u001b[38;5;241;43m=\u001b[39;49m\u001b[43mdevice\u001b[49m\u001b[43m)\u001b[49m\n\u001b[1;32m    785\u001b[0m     \u001b[38;5;28;01mif\u001b[39;00m resize \u001b[38;5;129;01mis\u001b[39;00m \u001b[38;5;129;01mnot\u001b[39;00m \u001b[38;5;28;01mNone\u001b[39;00m:\n\u001b[1;32m    786\u001b[0m         mask \u001b[38;5;241m=\u001b[39m transforms\u001b[38;5;241m.\u001b[39mresize_image(mask, resize[\u001b[38;5;241m0\u001b[39m], resize[\u001b[38;5;241m1\u001b[39m],\n\u001b[1;32m    787\u001b[0m                                        interpolation\u001b[38;5;241m=\u001b[39mcv2\u001b[38;5;241m.\u001b[39mINTER_NEAREST)\n",
      "File \u001b[0;32m~/opt/anaconda3/lib/python3.9/site-packages/cellpose/dynamics.py:831\u001b[0m, in \u001b[0;36mcompute_masks\u001b[0;34m(dP, cellprob, p, niter, cellprob_threshold, flow_threshold, interp, do_3D, min_size, device)\u001b[0m\n\u001b[1;32m    828\u001b[0m         \u001b[38;5;28;01mreturn\u001b[39;00m mask, p\n\u001b[1;32m    830\u001b[0m \u001b[38;5;66;03m#calculate masks\u001b[39;00m\n\u001b[0;32m--> 831\u001b[0m mask \u001b[38;5;241m=\u001b[39m \u001b[43mget_masks\u001b[49m\u001b[43m(\u001b[49m\u001b[43mp\u001b[49m\u001b[43m,\u001b[49m\u001b[43m \u001b[49m\u001b[43miscell\u001b[49m\u001b[38;5;241;43m=\u001b[39;49m\u001b[43mcp_mask\u001b[49m\u001b[43m)\u001b[49m\n\u001b[1;32m    833\u001b[0m \u001b[38;5;66;03m# flow thresholding factored out of get_masks\u001b[39;00m\n\u001b[1;32m    834\u001b[0m \u001b[38;5;28;01mif\u001b[39;00m \u001b[38;5;129;01mnot\u001b[39;00m do_3D:\n",
      "File \u001b[0;32m~/opt/anaconda3/lib/python3.9/site-packages/cellpose/dynamics.py:700\u001b[0m, in \u001b[0;36mget_masks\u001b[0;34m(p, iscell, rpad)\u001b[0m\n\u001b[1;32m    697\u001b[0m     pflows\u001b[38;5;241m.\u001b[39mappend(p[i]\u001b[38;5;241m.\u001b[39mflatten()\u001b[38;5;241m.\u001b[39mastype(\u001b[38;5;124m\"\u001b[39m\u001b[38;5;124mint32\u001b[39m\u001b[38;5;124m\"\u001b[39m))\n\u001b[1;32m    698\u001b[0m     edges\u001b[38;5;241m.\u001b[39mappend(np\u001b[38;5;241m.\u001b[39marange(\u001b[38;5;241m-\u001b[39m\u001b[38;5;241m.5\u001b[39m \u001b[38;5;241m-\u001b[39m rpad, shape0[i] \u001b[38;5;241m+\u001b[39m \u001b[38;5;241m.5\u001b[39m \u001b[38;5;241m+\u001b[39m rpad, \u001b[38;5;241m1\u001b[39m))\n\u001b[0;32m--> 700\u001b[0m h, _ \u001b[38;5;241m=\u001b[39m \u001b[43mnp\u001b[49m\u001b[38;5;241;43m.\u001b[39;49m\u001b[43mhistogramdd\u001b[49m\u001b[43m(\u001b[49m\u001b[38;5;28;43mtuple\u001b[39;49m\u001b[43m(\u001b[49m\u001b[43mpflows\u001b[49m\u001b[43m)\u001b[49m\u001b[43m,\u001b[49m\u001b[43m \u001b[49m\u001b[43mbins\u001b[49m\u001b[38;5;241;43m=\u001b[39;49m\u001b[43medges\u001b[49m\u001b[43m)\u001b[49m\n\u001b[1;32m    701\u001b[0m hmax \u001b[38;5;241m=\u001b[39m h\u001b[38;5;241m.\u001b[39mcopy()\n\u001b[1;32m    702\u001b[0m \u001b[38;5;28;01mfor\u001b[39;00m i \u001b[38;5;129;01min\u001b[39;00m \u001b[38;5;28mrange\u001b[39m(dims):\n",
      "File \u001b[0;32m<__array_function__ internals>:200\u001b[0m, in \u001b[0;36mhistogramdd\u001b[0;34m(*args, **kwargs)\u001b[0m\n",
      "File \u001b[0;32m~/opt/anaconda3/lib/python3.9/site-packages/numpy/lib/histograms.py:1046\u001b[0m, in \u001b[0;36mhistogramdd\u001b[0;34m(sample, bins, range, density, weights)\u001b[0m\n\u001b[1;32m   1042\u001b[0m xy \u001b[38;5;241m=\u001b[39m np\u001b[38;5;241m.\u001b[39mravel_multi_index(Ncount, nbin)\n\u001b[1;32m   1044\u001b[0m \u001b[38;5;66;03m# Compute the number of repetitions in xy and assign it to the\u001b[39;00m\n\u001b[1;32m   1045\u001b[0m \u001b[38;5;66;03m# flattened histmat.\u001b[39;00m\n\u001b[0;32m-> 1046\u001b[0m hist \u001b[38;5;241m=\u001b[39m np\u001b[38;5;241m.\u001b[39mbincount(xy, weights, minlength\u001b[38;5;241m=\u001b[39m\u001b[43mnbin\u001b[49m\u001b[38;5;241;43m.\u001b[39;49m\u001b[43mprod\u001b[49m\u001b[43m(\u001b[49m\u001b[43m)\u001b[49m)\n\u001b[1;32m   1048\u001b[0m \u001b[38;5;66;03m# Shape into a proper matrix\u001b[39;00m\n\u001b[1;32m   1049\u001b[0m hist \u001b[38;5;241m=\u001b[39m hist\u001b[38;5;241m.\u001b[39mreshape(nbin)\n",
      "File \u001b[0;32m~/opt/anaconda3/lib/python3.9/site-packages/numpy/core/_methods.py:53\u001b[0m, in \u001b[0;36m_prod\u001b[0;34m(a, axis, dtype, out, keepdims, initial, where)\u001b[0m\n\u001b[1;32m     51\u001b[0m \u001b[38;5;28;01mdef\u001b[39;00m \u001b[38;5;21m_prod\u001b[39m(a, axis\u001b[38;5;241m=\u001b[39m\u001b[38;5;28;01mNone\u001b[39;00m, dtype\u001b[38;5;241m=\u001b[39m\u001b[38;5;28;01mNone\u001b[39;00m, out\u001b[38;5;241m=\u001b[39m\u001b[38;5;28;01mNone\u001b[39;00m, keepdims\u001b[38;5;241m=\u001b[39m\u001b[38;5;28;01mFalse\u001b[39;00m,\n\u001b[1;32m     52\u001b[0m           initial\u001b[38;5;241m=\u001b[39m_NoValue, where\u001b[38;5;241m=\u001b[39m\u001b[38;5;28;01mTrue\u001b[39;00m):\n\u001b[0;32m---> 53\u001b[0m     \u001b[38;5;28;01mreturn\u001b[39;00m \u001b[43mumr_prod\u001b[49m\u001b[43m(\u001b[49m\u001b[43ma\u001b[49m\u001b[43m,\u001b[49m\u001b[43m \u001b[49m\u001b[43maxis\u001b[49m\u001b[43m,\u001b[49m\u001b[43m \u001b[49m\u001b[43mdtype\u001b[49m\u001b[43m,\u001b[49m\u001b[43m \u001b[49m\u001b[43mout\u001b[49m\u001b[43m,\u001b[49m\u001b[43m \u001b[49m\u001b[43mkeepdims\u001b[49m\u001b[43m,\u001b[49m\u001b[43m \u001b[49m\u001b[43minitial\u001b[49m\u001b[43m,\u001b[49m\u001b[43m \u001b[49m\u001b[43mwhere\u001b[49m\u001b[43m)\u001b[49m\n",
      "\u001b[0;31mKeyboardInterrupt\u001b[0m: "
     ]
    }
   ],
   "source": [
    "import numpy as np\n",
    "import pandas as pd\n",
    "from skimage.measure import regionprops\n",
    "\n",
    "def get_sq_stacks(DAPI_stack, WGA_stack, eGFP_stack, GLUT1_stack, single_mask, z_sep):\n",
    "    sq_maski = square_mask(single_mask)\n",
    "\n",
    "    # Extract bounding box around the mask\n",
    "    min_row, min_col, max_row, max_col = regionprops(sq_maski.astype(int))[0].bbox\n",
    "\n",
    "    # Extracting stacks within the bounding box\n",
    "    sq_WGA_stack = WGA_stack[:, min_row:max_row, min_col:max_col]\n",
    "    sq_DAPI_stack = DAPI_stack[:, min_row:max_row, min_col:max_col]\n",
    "    sq_eGFP_stack = eGFP_stack[:, min_row:max_row, min_col:max_col]\n",
    "    sq_GLUT1_stack = GLUT1_stack[:, min_row:max_row, min_col:max_col]\n",
    "\n",
    "    sq_stacks = np.stack((sq_WGA_stack, sq_DAPI_stack, sq_eGFP_stack, sq_GLUT1_stack))\n",
    "\n",
    "    return sq_stacks\n",
    "\n",
    "\n",
    "def model_traces(sq_stacks, single_mask, z_sep):\n",
    "    sq_WGA_stack, sq_DAPI_stack, sq_eGFP_stack, sq_GLUT1_stack = sq_stacks\n",
    "\n",
    "    #_, _, comzi = nucleus_com(sq_DAPI_stack, single_mask)  # Gets the nucleus stack of the middle of the cell\n",
    "    comzi = np.argmax(np.sum(sq_DAPI_stack, axis=(1, 2)))\n",
    "\n",
    "    sq_WGA_slice = sq_WGA_stack[comzi]\n",
    "\n",
    "    # 1. Run model WGA slice\n",
    "    model = models.CellposeModel(gpu=True, pretrained_model=model_path_dapi)\n",
    "    masks, flows, styles = model.eval(sq_WGA_slice, diameter=None, channels=[0,0])\n",
    "\n",
    "    if len(np.unique(masks)) < 2:\n",
    "        print('No mask found')\n",
    "\n",
    "        pass\n",
    "\n",
    "    elif len(np.unique(masks)) > 2:\n",
    "        #raise Exception('More than one mask found')\n",
    "\n",
    "    # Function to keep the largest mask\n",
    "        largest_idx = np.argmax(utils.diameters(masks)[1])\n",
    "        masks = extract_masks(masks, largest_idx)\n",
    "\n",
    "    # Retrieving values in a vectorized manner\n",
    "    stacks = np.array([sq_WGA_stack, sq_DAPI_stack, sq_eGFP_stack, sq_GLUT1_stack])\n",
    "    masked_stacks = stacks * masks\n",
    "    summed_values = np.sum(masked_stacks, axis=(-1, -2))  # Sum along the spatial dimensions\n",
    "\n",
    "    # Store the results with corresponding channel names\n",
    "    channel_names = ['WGA', 'DAPI', 'eGFP', 'GluT1']\n",
    "    result = {name: value for name, value in zip(channel_names, summed_values)}\n",
    "\n",
    "    return result\n",
    "\n",
    "def create_dataframe(image, masks, channels=None, z_sep = z_sep):\n",
    "    # Default channels if none are provided\n",
    "    if channels is None:\n",
    "        DAPI_channel = 0\n",
    "        eGFP_channel = 1\n",
    "        WGA_channel = 2\n",
    "        GluT1_channel = 3\n",
    "\n",
    "        channels = {\n",
    "            'DAPI': DAPI_channel,\n",
    "            'eGFP': eGFP_channel,\n",
    "            'WGA': WGA_channel,\n",
    "            'GluT1': GluT1_channel\n",
    "        }\n",
    "\n",
    "    # Initialize lists to store the data\n",
    "    summed_values_list = []\n",
    "    mask_id_list = []\n",
    "    channel_list = []\n",
    "\n",
    "    # Extract individual channel stacks\n",
    "    DAPI_stack = image[:, channels['DAPI'], :, :]\n",
    "    eGFP_stack = image[:, channels['eGFP'], :, :]\n",
    "    WGA_stack = image[:, channels['WGA'], :, :]\n",
    "    GLUT1_stack = image[:, channels['GluT1'], :, :]\n",
    "\n",
    "    # Iterate through each unique mask in masks\n",
    "    for mask_id in np.delete(np.unique(DAPI_masks),0)-1:\n",
    "        single_mask = extract_masks(masks, mask_id)\n",
    "        \n",
    "        # Get square stacks around the mask\n",
    "        sq_stacks = get_sq_stacks(DAPI_stack, WGA_stack, eGFP_stack, GLUT1_stack, single_mask, z_sep= z_sep)  # Example z_sep\n",
    "\n",
    "        # Get the model traces\n",
    "        trace_results = model_traces(sq_stacks, single_mask, z_sep=z_sep)  # Example z_sep\n",
    "\n",
    "        # Append data to lists\n",
    "        for channel_name, summed_values in trace_results.items():\n",
    "            summed_values_list.append(summed_values.tolist())\n",
    "            mask_id_list.append(mask_id)\n",
    "            channel_list.append(channel_name)\n",
    "\n",
    "    # Create a DataFrame from the collected data\n",
    "    data = {\n",
    "        'Y_vals': summed_values_list,\n",
    "        'mask_id': mask_id_list,\n",
    "        'Stain': channel_list\n",
    "    }\n",
    "    df = pd.DataFrame(data)\n",
    "\n",
    "    return df\n",
    "\n",
    "# Example usage:\n",
    "# Assuming 'image' and 'masks' are already defined as numpy arrays and model_path_dapi is set\n",
    "df = create_dataframe(image, DAPI_masks)\n",
    "\n",
    "def organize_data(trace_results):\n",
    "    \n",
    "    summed_values_list = []\n",
    "    mask_id_list = []\n",
    "    channel_list = []\n",
    "\n",
    "    for channel_name, summed_values in trace_results.items():\n",
    "            summed_values_list.append(summed_values.tolist())\n",
    "            mask_id_list.append(mask_id)\n",
    "            channel_list.append(channel_name)\n",
    "\n",
    "    # Create a DataFrame from the collected data\n",
    "    data = {\n",
    "        'Y_vals': summed_values_list,\n",
    "        'mask_id': mask_id_list,\n",
    "        'Stain': channel_list\n",
    "    }\n",
    "    df = pd.DataFrame(data)\n",
    "\n",
    "    return df"
   ]
  },
  {
   "cell_type": "code",
   "execution_count": 134,
   "metadata": {},
   "outputs": [
    {
     "name": "stdout",
     "output_type": "stream",
     "text": [
      "Processing 2006L_GLUT1_647_WGA_594_0003.nd2\n"
     ]
    },
    {
     "name": "stderr",
     "output_type": "stream",
     "text": [
      "/var/folders/sl/syqsj8q94yn7kbv8l50mtwdw0000gn/T/ipykernel_48690/2568392365.py:16: UserWarning: ND2File file not closed before garbage collection. Please use `with ND2File(...):` context or call `.close()`.\n",
      "  f = nd2.ND2File(nd2_path)\n"
     ]
    },
    {
     "name": "stdout",
     "output_type": "stream",
     "text": [
      "No mask found\n",
      "No mask found\n",
      "No mask found\n",
      "No mask found\n",
      "No mask found\n",
      "No mask found\n",
      "No mask found\n"
     ]
    },
    {
     "name": "stderr",
     "output_type": "stream",
     "text": [
      "WARNING: no mask pixels found\n"
     ]
    },
    {
     "name": "stdout",
     "output_type": "stream",
     "text": [
      "No mask found\n",
      "No mask found\n",
      "No mask found\n",
      "No mask found\n",
      "No mask found\n",
      "No mask found\n",
      "No mask found\n",
      "No mask found\n",
      "No mask found\n",
      "No mask found\n",
      "No mask found\n",
      "No mask found\n",
      "No mask found\n",
      "No mask found\n",
      "No mask found\n",
      "No mask found\n",
      "Processing 2006R_GLUT1_647_WGA_594_0002.nd2\n"
     ]
    },
    {
     "name": "stderr",
     "output_type": "stream",
     "text": [
      "/var/folders/sl/syqsj8q94yn7kbv8l50mtwdw0000gn/T/ipykernel_48690/2568392365.py:16: UserWarning: ND2File file not closed before garbage collection. Please use `with ND2File(...):` context or call `.close()`.\n",
      "  f = nd2.ND2File(nd2_path)\n"
     ]
    },
    {
     "name": "stdout",
     "output_type": "stream",
     "text": [
      "No mask found\n",
      "No mask found\n",
      "No mask found\n",
      "No mask found\n",
      "No mask found\n",
      "No mask found\n",
      "No mask found\n",
      "No mask found\n",
      "No mask found\n",
      "No mask found\n",
      "No mask found\n",
      "No mask found\n"
     ]
    }
   ],
   "source": [
    "script = f'POSIX path of (choose folder default location \"{current_directory}\")'\n",
    "selected_folder = subprocess.check_output(['osascript', '-e', script]).decode('utf-8').strip()\n",
    "\n",
    "# Get the list of all .nd2 files in the selected folder\n",
    "nd2_files = [f for f in os.listdir(selected_folder) if f.endswith('.nd2')]\n",
    "\n",
    "all_data = pd.DataFrame()\n",
    "\n",
    "unid_counter = 0\n",
    "\n",
    "# Process each .nd2 file\n",
    "for nd2_file in nd2_files:\n",
    "    print(f'Processing {nd2_file}')\n",
    "    nd2_path = os.path.join(selected_folder, nd2_file)\n",
    "\n",
    "    f = nd2.ND2File(nd2_path)\n",
    "    z_sep = f.voxel_size().z\n",
    "    image = f.asarray()\n",
    "\n",
    "    DAPI_stack = to_8bit(image[:,0,:,:].copy())\n",
    "    mp_DAPI = max_proj(DAPI_stack)\n",
    "    model = models.CellposeModel(pretrained_model=model_path_dapi)\n",
    "    DAPI_masks, flows, styles = model.eval(mp_DAPI, diameter=None, channels=[0,0])\n",
    "\n",
    "    df = create_dataframe(image, DAPI_masks)\n",
    "    \n",
    "    # Adding 'X_vals' to the dataframe\n",
    "    # Adding file_name, DJID, and Eye info to the  dataframe\n",
    "    djid, eye, file_base = extract_information(nd2_file)\n",
    "\n",
    "    nested_array = np.array(range(image.shape[0]))* f.voxel_size().z\n",
    "    df['X_vals'] = [nested_array for i in range(len(df))]\n",
    "    df['file_name'] = file_base\n",
    "    df['DJID'] = djid\n",
    "    df['Eye'] = eye\n",
    "\n",
    "    # Assign a unique cell_unid for each unique mask_id\n",
    "    unique_mask_ids = df['mask_id'].unique()\n",
    "    mask_id_to_unid = {mask_id: unid_counter + i for i, mask_id in enumerate(unique_mask_ids)}\n",
    "    df['cell_unid'] = df['mask_id'].map(mask_id_to_unid)\n",
    "    unid_counter += len(unique_mask_ids)\n",
    "\n",
    "    # Concatenate the current df with the all_data dataframe\n",
    "    all_data = pd.concat([all_data, df], ignore_index=True)"
   ]
  },
  {
   "cell_type": "code",
   "execution_count": 2,
   "metadata": {},
   "outputs": [],
   "source": [
    "parent_directory = os.path.dirname(current_directory) # Parent directory"
   ]
  },
  {
   "cell_type": "code",
   "execution_count": 7,
   "metadata": {},
   "outputs": [
    {
     "name": "stdout",
     "output_type": "stream",
     "text": [
      "Processing 3203R_GLUT1_647_WGA_594_0002.nd2\n"
     ]
    },
    {
     "name": "stderr",
     "output_type": "stream",
     "text": [
      "/var/folders/sl/syqsj8q94yn7kbv8l50mtwdw0000gn/T/ipykernel_83599/469248540.py:18: UserWarning: ND2File file not closed before garbage collection. Please use `with ND2File(...):` context or call `.close()`.\n",
      "  f = nd2.ND2File(nd2_path)\n",
      "/Users/raphaeltinio/opt/anaconda3/lib/python3.9/site-packages/numpy/core/fromnumeric.py:3464: RuntimeWarning: Mean of empty slice.\n",
      "  return _methods._mean(a, axis=axis, dtype=dtype,\n",
      "/Users/raphaeltinio/opt/anaconda3/lib/python3.9/site-packages/numpy/core/_methods.py:192: RuntimeWarning: invalid value encountered in scalar divide\n",
      "  ret = ret.dtype.type(ret / rcount)\n"
     ]
    },
    {
     "name": "stdout",
     "output_type": "stream",
     "text": [
      "No mask found.\n"
     ]
    },
    {
     "name": "stderr",
     "output_type": "stream",
     "text": [
      "/Users/raphaeltinio/opt/anaconda3/lib/python3.9/site-packages/numpy/core/fromnumeric.py:3464: RuntimeWarning: Mean of empty slice.\n",
      "  return _methods._mean(a, axis=axis, dtype=dtype,\n",
      "/Users/raphaeltinio/opt/anaconda3/lib/python3.9/site-packages/numpy/core/_methods.py:192: RuntimeWarning: invalid value encountered in scalar divide\n",
      "  ret = ret.dtype.type(ret / rcount)\n"
     ]
    },
    {
     "name": "stdout",
     "output_type": "stream",
     "text": [
      "No mask found.\n"
     ]
    },
    {
     "name": "stderr",
     "output_type": "stream",
     "text": [
      "/Users/raphaeltinio/opt/anaconda3/lib/python3.9/site-packages/numpy/core/fromnumeric.py:3464: RuntimeWarning: Mean of empty slice.\n",
      "  return _methods._mean(a, axis=axis, dtype=dtype,\n",
      "/Users/raphaeltinio/opt/anaconda3/lib/python3.9/site-packages/numpy/core/_methods.py:192: RuntimeWarning: invalid value encountered in scalar divide\n",
      "  ret = ret.dtype.type(ret / rcount)\n"
     ]
    },
    {
     "name": "stdout",
     "output_type": "stream",
     "text": [
      "No mask found.\n"
     ]
    },
    {
     "name": "stderr",
     "output_type": "stream",
     "text": [
      "/Users/raphaeltinio/opt/anaconda3/lib/python3.9/site-packages/numpy/core/fromnumeric.py:3464: RuntimeWarning: Mean of empty slice.\n",
      "  return _methods._mean(a, axis=axis, dtype=dtype,\n",
      "/Users/raphaeltinio/opt/anaconda3/lib/python3.9/site-packages/numpy/core/_methods.py:192: RuntimeWarning: invalid value encountered in scalar divide\n",
      "  ret = ret.dtype.type(ret / rcount)\n"
     ]
    },
    {
     "name": "stdout",
     "output_type": "stream",
     "text": [
      "No mask found.\n"
     ]
    },
    {
     "name": "stderr",
     "output_type": "stream",
     "text": [
      "/Users/raphaeltinio/opt/anaconda3/lib/python3.9/site-packages/numpy/core/fromnumeric.py:3464: RuntimeWarning: Mean of empty slice.\n",
      "  return _methods._mean(a, axis=axis, dtype=dtype,\n",
      "/Users/raphaeltinio/opt/anaconda3/lib/python3.9/site-packages/numpy/core/_methods.py:192: RuntimeWarning: invalid value encountered in scalar divide\n",
      "  ret = ret.dtype.type(ret / rcount)\n"
     ]
    },
    {
     "name": "stdout",
     "output_type": "stream",
     "text": [
      "No mask found.\n"
     ]
    },
    {
     "name": "stderr",
     "output_type": "stream",
     "text": [
      "/Users/raphaeltinio/opt/anaconda3/lib/python3.9/site-packages/numpy/core/fromnumeric.py:3464: RuntimeWarning: Mean of empty slice.\n",
      "  return _methods._mean(a, axis=axis, dtype=dtype,\n",
      "/Users/raphaeltinio/opt/anaconda3/lib/python3.9/site-packages/numpy/core/_methods.py:192: RuntimeWarning: invalid value encountered in scalar divide\n",
      "  ret = ret.dtype.type(ret / rcount)\n"
     ]
    },
    {
     "name": "stdout",
     "output_type": "stream",
     "text": [
      "No mask found.\n",
      "No mask found.\n",
      "Processing 2006L_GLUT1_647_WGA_594_0003.nd2\n"
     ]
    },
    {
     "name": "stderr",
     "output_type": "stream",
     "text": [
      "/var/folders/sl/syqsj8q94yn7kbv8l50mtwdw0000gn/T/ipykernel_83599/469248540.py:18: UserWarning: ND2File file not closed before garbage collection. Please use `with ND2File(...):` context or call `.close()`.\n",
      "  f = nd2.ND2File(nd2_path)\n",
      "/Users/raphaeltinio/opt/anaconda3/lib/python3.9/site-packages/numpy/core/fromnumeric.py:3464: RuntimeWarning: Mean of empty slice.\n",
      "  return _methods._mean(a, axis=axis, dtype=dtype,\n",
      "/Users/raphaeltinio/opt/anaconda3/lib/python3.9/site-packages/numpy/core/_methods.py:192: RuntimeWarning: invalid value encountered in scalar divide\n",
      "  ret = ret.dtype.type(ret / rcount)\n"
     ]
    },
    {
     "name": "stdout",
     "output_type": "stream",
     "text": [
      "No mask found.\n"
     ]
    },
    {
     "name": "stderr",
     "output_type": "stream",
     "text": [
      "/Users/raphaeltinio/opt/anaconda3/lib/python3.9/site-packages/numpy/core/fromnumeric.py:3464: RuntimeWarning: Mean of empty slice.\n",
      "  return _methods._mean(a, axis=axis, dtype=dtype,\n",
      "/Users/raphaeltinio/opt/anaconda3/lib/python3.9/site-packages/numpy/core/_methods.py:192: RuntimeWarning: invalid value encountered in scalar divide\n",
      "  ret = ret.dtype.type(ret / rcount)\n"
     ]
    },
    {
     "name": "stdout",
     "output_type": "stream",
     "text": [
      "No mask found.\n"
     ]
    },
    {
     "name": "stderr",
     "output_type": "stream",
     "text": [
      "/Users/raphaeltinio/opt/anaconda3/lib/python3.9/site-packages/numpy/core/fromnumeric.py:3464: RuntimeWarning: Mean of empty slice.\n",
      "  return _methods._mean(a, axis=axis, dtype=dtype,\n",
      "/Users/raphaeltinio/opt/anaconda3/lib/python3.9/site-packages/numpy/core/_methods.py:192: RuntimeWarning: invalid value encountered in scalar divide\n",
      "  ret = ret.dtype.type(ret / rcount)\n"
     ]
    },
    {
     "name": "stdout",
     "output_type": "stream",
     "text": [
      "No mask found.\n",
      "Processing 2007L_GLUT1_647_WGA_594_0002.nd2\n"
     ]
    },
    {
     "name": "stderr",
     "output_type": "stream",
     "text": [
      "/var/folders/sl/syqsj8q94yn7kbv8l50mtwdw0000gn/T/ipykernel_83599/469248540.py:18: UserWarning: ND2File file not closed before garbage collection. Please use `with ND2File(...):` context or call `.close()`.\n",
      "  f = nd2.ND2File(nd2_path)\n",
      "/Users/raphaeltinio/opt/anaconda3/lib/python3.9/site-packages/numpy/core/fromnumeric.py:3464: RuntimeWarning: Mean of empty slice.\n",
      "  return _methods._mean(a, axis=axis, dtype=dtype,\n",
      "/Users/raphaeltinio/opt/anaconda3/lib/python3.9/site-packages/numpy/core/_methods.py:192: RuntimeWarning: invalid value encountered in scalar divide\n",
      "  ret = ret.dtype.type(ret / rcount)\n"
     ]
    },
    {
     "name": "stdout",
     "output_type": "stream",
     "text": [
      "No mask found.\n"
     ]
    },
    {
     "name": "stderr",
     "output_type": "stream",
     "text": [
      "/Users/raphaeltinio/opt/anaconda3/lib/python3.9/site-packages/numpy/core/fromnumeric.py:3464: RuntimeWarning: Mean of empty slice.\n",
      "  return _methods._mean(a, axis=axis, dtype=dtype,\n",
      "/Users/raphaeltinio/opt/anaconda3/lib/python3.9/site-packages/numpy/core/_methods.py:192: RuntimeWarning: invalid value encountered in scalar divide\n",
      "  ret = ret.dtype.type(ret / rcount)\n"
     ]
    },
    {
     "name": "stdout",
     "output_type": "stream",
     "text": [
      "No mask found.\n"
     ]
    },
    {
     "name": "stderr",
     "output_type": "stream",
     "text": [
      "/Users/raphaeltinio/opt/anaconda3/lib/python3.9/site-packages/numpy/core/fromnumeric.py:3464: RuntimeWarning: Mean of empty slice.\n",
      "  return _methods._mean(a, axis=axis, dtype=dtype,\n",
      "/Users/raphaeltinio/opt/anaconda3/lib/python3.9/site-packages/numpy/core/_methods.py:192: RuntimeWarning: invalid value encountered in scalar divide\n",
      "  ret = ret.dtype.type(ret / rcount)\n"
     ]
    },
    {
     "name": "stdout",
     "output_type": "stream",
     "text": [
      "No mask found.\n",
      "Processing 2007R_GLUT1_647_WGA_594_0002.nd2\n"
     ]
    },
    {
     "name": "stderr",
     "output_type": "stream",
     "text": [
      "/var/folders/sl/syqsj8q94yn7kbv8l50mtwdw0000gn/T/ipykernel_83599/469248540.py:18: UserWarning: ND2File file not closed before garbage collection. Please use `with ND2File(...):` context or call `.close()`.\n",
      "  f = nd2.ND2File(nd2_path)\n",
      "/Users/raphaeltinio/opt/anaconda3/lib/python3.9/site-packages/numpy/core/fromnumeric.py:3464: RuntimeWarning: Mean of empty slice.\n",
      "  return _methods._mean(a, axis=axis, dtype=dtype,\n",
      "/Users/raphaeltinio/opt/anaconda3/lib/python3.9/site-packages/numpy/core/_methods.py:192: RuntimeWarning: invalid value encountered in scalar divide\n",
      "  ret = ret.dtype.type(ret / rcount)\n"
     ]
    },
    {
     "name": "stdout",
     "output_type": "stream",
     "text": [
      "No mask found.\n"
     ]
    },
    {
     "name": "stderr",
     "output_type": "stream",
     "text": [
      "/Users/raphaeltinio/opt/anaconda3/lib/python3.9/site-packages/numpy/core/fromnumeric.py:3464: RuntimeWarning: Mean of empty slice.\n",
      "  return _methods._mean(a, axis=axis, dtype=dtype,\n",
      "/Users/raphaeltinio/opt/anaconda3/lib/python3.9/site-packages/numpy/core/_methods.py:192: RuntimeWarning: invalid value encountered in scalar divide\n",
      "  ret = ret.dtype.type(ret / rcount)\n"
     ]
    },
    {
     "name": "stdout",
     "output_type": "stream",
     "text": [
      "No mask found.\n"
     ]
    },
    {
     "name": "stderr",
     "output_type": "stream",
     "text": [
      "/Users/raphaeltinio/opt/anaconda3/lib/python3.9/site-packages/numpy/core/fromnumeric.py:3464: RuntimeWarning: Mean of empty slice.\n",
      "  return _methods._mean(a, axis=axis, dtype=dtype,\n",
      "/Users/raphaeltinio/opt/anaconda3/lib/python3.9/site-packages/numpy/core/_methods.py:192: RuntimeWarning: invalid value encountered in scalar divide\n",
      "  ret = ret.dtype.type(ret / rcount)\n"
     ]
    },
    {
     "name": "stdout",
     "output_type": "stream",
     "text": [
      "No mask found.\n"
     ]
    },
    {
     "name": "stderr",
     "output_type": "stream",
     "text": [
      "/Users/raphaeltinio/opt/anaconda3/lib/python3.9/site-packages/numpy/core/fromnumeric.py:3464: RuntimeWarning: Mean of empty slice.\n",
      "  return _methods._mean(a, axis=axis, dtype=dtype,\n",
      "/Users/raphaeltinio/opt/anaconda3/lib/python3.9/site-packages/numpy/core/_methods.py:192: RuntimeWarning: invalid value encountered in scalar divide\n",
      "  ret = ret.dtype.type(ret / rcount)\n"
     ]
    },
    {
     "name": "stdout",
     "output_type": "stream",
     "text": [
      "No mask found.\n"
     ]
    },
    {
     "name": "stderr",
     "output_type": "stream",
     "text": [
      "/Users/raphaeltinio/opt/anaconda3/lib/python3.9/site-packages/numpy/core/fromnumeric.py:3464: RuntimeWarning: Mean of empty slice.\n",
      "  return _methods._mean(a, axis=axis, dtype=dtype,\n",
      "/Users/raphaeltinio/opt/anaconda3/lib/python3.9/site-packages/numpy/core/_methods.py:192: RuntimeWarning: invalid value encountered in scalar divide\n",
      "  ret = ret.dtype.type(ret / rcount)\n"
     ]
    },
    {
     "name": "stdout",
     "output_type": "stream",
     "text": [
      "No mask found.\n"
     ]
    },
    {
     "name": "stderr",
     "output_type": "stream",
     "text": [
      "/Users/raphaeltinio/opt/anaconda3/lib/python3.9/site-packages/numpy/core/fromnumeric.py:3464: RuntimeWarning: Mean of empty slice.\n",
      "  return _methods._mean(a, axis=axis, dtype=dtype,\n",
      "/Users/raphaeltinio/opt/anaconda3/lib/python3.9/site-packages/numpy/core/_methods.py:192: RuntimeWarning: invalid value encountered in scalar divide\n",
      "  ret = ret.dtype.type(ret / rcount)\n"
     ]
    },
    {
     "name": "stdout",
     "output_type": "stream",
     "text": [
      "No mask found.\n",
      "No mask found.\n",
      "Processing 2006R_GLUT1_647_WGA_594_0002.nd2\n"
     ]
    },
    {
     "name": "stderr",
     "output_type": "stream",
     "text": [
      "/var/folders/sl/syqsj8q94yn7kbv8l50mtwdw0000gn/T/ipykernel_83599/469248540.py:18: UserWarning: ND2File file not closed before garbage collection. Please use `with ND2File(...):` context or call `.close()`.\n",
      "  f = nd2.ND2File(nd2_path)\n",
      "WARNING: no mask pixels found\n",
      "/Users/raphaeltinio/opt/anaconda3/lib/python3.9/site-packages/numpy/core/fromnumeric.py:3464: RuntimeWarning: Mean of empty slice.\n",
      "  return _methods._mean(a, axis=axis, dtype=dtype,\n",
      "/Users/raphaeltinio/opt/anaconda3/lib/python3.9/site-packages/numpy/core/_methods.py:192: RuntimeWarning: invalid value encountered in scalar divide\n",
      "  ret = ret.dtype.type(ret / rcount)\n"
     ]
    },
    {
     "name": "stdout",
     "output_type": "stream",
     "text": [
      "No mask found.\n"
     ]
    },
    {
     "name": "stderr",
     "output_type": "stream",
     "text": [
      "/Users/raphaeltinio/opt/anaconda3/lib/python3.9/site-packages/numpy/core/fromnumeric.py:3464: RuntimeWarning: Mean of empty slice.\n",
      "  return _methods._mean(a, axis=axis, dtype=dtype,\n",
      "/Users/raphaeltinio/opt/anaconda3/lib/python3.9/site-packages/numpy/core/_methods.py:192: RuntimeWarning: invalid value encountered in scalar divide\n",
      "  ret = ret.dtype.type(ret / rcount)\n"
     ]
    },
    {
     "name": "stdout",
     "output_type": "stream",
     "text": [
      "No mask found.\n"
     ]
    },
    {
     "name": "stderr",
     "output_type": "stream",
     "text": [
      "/Users/raphaeltinio/opt/anaconda3/lib/python3.9/site-packages/numpy/core/fromnumeric.py:3464: RuntimeWarning: Mean of empty slice.\n",
      "  return _methods._mean(a, axis=axis, dtype=dtype,\n",
      "/Users/raphaeltinio/opt/anaconda3/lib/python3.9/site-packages/numpy/core/_methods.py:192: RuntimeWarning: invalid value encountered in scalar divide\n",
      "  ret = ret.dtype.type(ret / rcount)\n"
     ]
    },
    {
     "name": "stdout",
     "output_type": "stream",
     "text": [
      "No mask found.\n"
     ]
    },
    {
     "name": "stderr",
     "output_type": "stream",
     "text": [
      "/Users/raphaeltinio/opt/anaconda3/lib/python3.9/site-packages/numpy/core/fromnumeric.py:3464: RuntimeWarning: Mean of empty slice.\n",
      "  return _methods._mean(a, axis=axis, dtype=dtype,\n",
      "/Users/raphaeltinio/opt/anaconda3/lib/python3.9/site-packages/numpy/core/_methods.py:192: RuntimeWarning: invalid value encountered in scalar divide\n",
      "  ret = ret.dtype.type(ret / rcount)\n"
     ]
    },
    {
     "name": "stdout",
     "output_type": "stream",
     "text": [
      "No mask found.\n"
     ]
    },
    {
     "name": "stderr",
     "output_type": "stream",
     "text": [
      "/Users/raphaeltinio/opt/anaconda3/lib/python3.9/site-packages/numpy/core/fromnumeric.py:3464: RuntimeWarning: Mean of empty slice.\n",
      "  return _methods._mean(a, axis=axis, dtype=dtype,\n",
      "/Users/raphaeltinio/opt/anaconda3/lib/python3.9/site-packages/numpy/core/_methods.py:192: RuntimeWarning: invalid value encountered in scalar divide\n",
      "  ret = ret.dtype.type(ret / rcount)\n",
      "/var/folders/sl/syqsj8q94yn7kbv8l50mtwdw0000gn/T/ipykernel_83599/469248540.py:18: UserWarning: ND2File file not closed before garbage collection. Please use `with ND2File(...):` context or call `.close()`.\n",
      "  f = nd2.ND2File(nd2_path)\n"
     ]
    },
    {
     "name": "stdout",
     "output_type": "stream",
     "text": [
      "No mask found.\n",
      "Processing 3203L_GLUT1_647_WGA_594_0002.nd2\n"
     ]
    },
    {
     "name": "stderr",
     "output_type": "stream",
     "text": [
      "/Users/raphaeltinio/opt/anaconda3/lib/python3.9/site-packages/numpy/core/fromnumeric.py:3464: RuntimeWarning: Mean of empty slice.\n",
      "  return _methods._mean(a, axis=axis, dtype=dtype,\n",
      "/Users/raphaeltinio/opt/anaconda3/lib/python3.9/site-packages/numpy/core/_methods.py:192: RuntimeWarning: invalid value encountered in scalar divide\n",
      "  ret = ret.dtype.type(ret / rcount)\n"
     ]
    },
    {
     "name": "stdout",
     "output_type": "stream",
     "text": [
      "No mask found.\n"
     ]
    },
    {
     "name": "stderr",
     "output_type": "stream",
     "text": [
      "/Users/raphaeltinio/opt/anaconda3/lib/python3.9/site-packages/numpy/core/fromnumeric.py:3464: RuntimeWarning: Mean of empty slice.\n",
      "  return _methods._mean(a, axis=axis, dtype=dtype,\n",
      "/Users/raphaeltinio/opt/anaconda3/lib/python3.9/site-packages/numpy/core/_methods.py:192: RuntimeWarning: invalid value encountered in scalar divide\n",
      "  ret = ret.dtype.type(ret / rcount)\n"
     ]
    },
    {
     "name": "stdout",
     "output_type": "stream",
     "text": [
      "No mask found.\n",
      "No mask found.\n"
     ]
    },
    {
     "name": "stderr",
     "output_type": "stream",
     "text": [
      "/Users/raphaeltinio/opt/anaconda3/lib/python3.9/site-packages/numpy/core/fromnumeric.py:3464: RuntimeWarning: Mean of empty slice.\n",
      "  return _methods._mean(a, axis=axis, dtype=dtype,\n",
      "/Users/raphaeltinio/opt/anaconda3/lib/python3.9/site-packages/numpy/core/_methods.py:192: RuntimeWarning: invalid value encountered in scalar divide\n",
      "  ret = ret.dtype.type(ret / rcount)\n"
     ]
    }
   ],
   "source": [
    "script = f'POSIX path of (choose folder default location \"{current_directory}\")'\n",
    "selected_folder = subprocess.check_output(['osascript', '-e', script]).decode('utf-8').strip()\n",
    "nd2_files = [f for f in os.listdir(selected_folder) if f.endswith('.nd2')]\n",
    "\n",
    "### Model Paths ###\n",
    "model_path_dapi = os.path.join(parent_directory, 'ImageAnalysis/cellpose_models/T5_DAPI_V2')\n",
    "model_path_wga = os.path.join(parent_directory, 'ImageAnalysis/cellpose_models/T5_WGA_V2')\n",
    "\n",
    "all_data = pd.DataFrame()\n",
    "unid_counter = 0\n",
    "\n",
    "for nd2_file in nd2_files:\n",
    "\n",
    "    # 1) Download Image Data\n",
    "    print(f'Processing {nd2_file}')\n",
    "    nd2_path = os.path.join(selected_folder, nd2_file)\n",
    "\n",
    "    f = nd2.ND2File(nd2_path)\n",
    "    z_sep = f.voxel_size().z\n",
    "    image = f.asarray()\n",
    "\n",
    "    # 2) Initial segmentation of DAPI max projection\n",
    "    DAPI_stack = to_8bit(image[:,0,:,:].copy())\n",
    "    mp_DAPI = max_proj(DAPI_stack)\n",
    "\n",
    "    # 3) Deblur and Segment DAPI max projection\n",
    "    deblur_model = denoise.CellposeDenoiseModel(gpu=True, model_type = model_path_dapi, restore_type=\"deblur_cyto3\")\n",
    "    DAPI_masks, flows, styles, image_deblurred = deblur_model.eval(auto_brightness_contrast(mp_DAPI), diameter=90, channels=[0,0])\n",
    "\n",
    "    image_deblurred = image_deblurred[:,:,0] # resulting image has one channel, but it still needs to be indexed \n",
    "\n",
    "    '''\n",
    "    Indiviudal Cell\n",
    "    '''\n",
    "\n",
    "    # 5) Segmentation of WGA channel\n",
    "\n",
    "    mask_idxs = np.delete(np.unique(DAPI_masks), 0) - 1\n",
    "\n",
    "    for mask_id in mask_idxs:\n",
    "        single_mask = extract_masks(DAPI_masks, mask_id)\n",
    "        diam = get_mask_diameter(single_mask)\n",
    "        expansion = 50\n",
    "\n",
    "        sq_stacks = get_sq_stacks(image, single_mask)\n",
    "        \n",
    "        # Running the model of the expanded squares\n",
    "        expanded_sq_WGA = extract_square_proj_expand(image, single_mask, expansion)\n",
    "\n",
    "        model = models.CellposeModel(gpu = True, pretrained_model = model_path_wga)\n",
    "        expanded_mask, flows, styles = model.eval(expanded_sq_WGA, diameter=diam, channels=[0,0])\n",
    "\n",
    "        # Removing 0-pixel boundary and finding the largest mask in the array\n",
    "        WGA_mask = remove_boundary(expanded_mask, expansion)\n",
    "\n",
    "        if len(utils.diameters(WGA_mask)[1]) == 0:\n",
    "            print('No mask found.')\n",
    "            continue\n",
    "\n",
    "        # len(np.unique(WGA_mask)) == 1\n",
    "            # print('No mask found.')\n",
    "            continue\n",
    "\n",
    "        largest_idx = np.argmax(utils.diameters(WGA_mask)[1])\n",
    "        WGA_mask = extract_masks(WGA_mask, largest_idx)\n",
    "\n",
    "        # Z-axis profile\n",
    "        trace_results = get_traces(sq_stacks, WGA_mask)\n",
    "\n",
    "        '''\n",
    "        Organizing data\n",
    "        '''\n",
    "        \n",
    "        # 6) Converting trace results into a pd dataframe\n",
    "        dataframe = organize_data(trace_results, mask_id)\n",
    "\n",
    "        # 7) Adding file information\n",
    "        djid, eye, file_base = extract_information(nd2_file)\n",
    "\n",
    "        nested_array = np.array(range(image.shape[0]))* f.voxel_size().z\n",
    "        dataframe['X_vals'] = [nested_array for i in range(len(dataframe))]\n",
    "        dataframe['file_name'] = file_base\n",
    "        dataframe['DJID'] = djid\n",
    "        dataframe['Eye'] = eye\n",
    "\n",
    "        # 8) cell_unid information\n",
    "        unique_mask_ids = dataframe['mask_id'].unique()\n",
    "        mask_id_to_unid = {mask_id: unid_counter + i for i, mask_id in enumerate(unique_mask_ids)}\n",
    "        dataframe['unid'] = dataframe['mask_id'].map(mask_id_to_unid)\n",
    "        unid_counter += len(unique_mask_ids)\n",
    "\n",
    "        # 9) Concatenation with existing data\n",
    "        all_data = pd.concat([all_data, dataframe], ignore_index=True)"
   ]
  },
  {
   "cell_type": "code",
   "execution_count": 18,
   "metadata": {},
   "outputs": [
    {
     "ename": "ValueError",
     "evalue": "malformed node or string: 0       [0.   0.15 0.3  0.45 0.6  0.75 0.9  1.05 1.2  ...\n1       [0.   0.15 0.3  0.45 0.6  0.75 0.9  1.05 1.2  ...\n2       [0.   0.15 0.3  0.45 0.6  0.75 0.9  1.05 1.2  ...\n3       [0.   0.15 0.3  0.45 0.6  0.75 0.9  1.05 1.2  ...\n4       [0.   0.15 0.3  0.45 0.6  0.75 0.9  1.05 1.2  ...\n                              ...                        \n2739    [ 0.    0.15  0.3   0.45  0.6   0.75  0.9   1....\n2740    [ 0.    0.15  0.3   0.45  0.6   0.75  0.9   1....\n2741    [ 0.    0.15  0.3   0.45  0.6   0.75  0.9   1....\n2742    [ 0.    0.15  0.3   0.45  0.6   0.75  0.9   1....\n2743    [ 0.    0.15  0.3   0.45  0.6   0.75  0.9   1....\nName: X_vals, Length: 2744, dtype: object",
     "output_type": "error",
     "traceback": [
      "\u001b[0;31m---------------------------------------------------------------------------\u001b[0m",
      "\u001b[0;31mValueError\u001b[0m                                Traceback (most recent call last)",
      "Cell \u001b[0;32mIn[18], line 5\u001b[0m\n\u001b[1;32m      2\u001b[0m \u001b[38;5;28;01mimport\u001b[39;00m \u001b[38;5;21;01mast\u001b[39;00m\n\u001b[1;32m      3\u001b[0m all_data \u001b[38;5;241m=\u001b[39m pd\u001b[38;5;241m.\u001b[39mread_csv(\u001b[38;5;124m'\u001b[39m\u001b[38;5;124mall_data.csv\u001b[39m\u001b[38;5;124m'\u001b[39m)\n\u001b[0;32m----> 5\u001b[0m all_data[\u001b[38;5;124m'\u001b[39m\u001b[38;5;124mX_vals\u001b[39m\u001b[38;5;124m'\u001b[39m] \u001b[38;5;241m=\u001b[39m \u001b[43mast\u001b[49m\u001b[38;5;241;43m.\u001b[39;49m\u001b[43mliteral_eval\u001b[49m\u001b[43m(\u001b[49m\u001b[43mall_data\u001b[49m\u001b[43m[\u001b[49m\u001b[38;5;124;43m'\u001b[39;49m\u001b[38;5;124;43mX_vals\u001b[39;49m\u001b[38;5;124;43m'\u001b[39;49m\u001b[43m]\u001b[49m\u001b[43m)\u001b[49m\n\u001b[1;32m      6\u001b[0m all_data[\u001b[38;5;124m'\u001b[39m\u001b[38;5;124mY_vals\u001b[39m\u001b[38;5;124m'\u001b[39m] \u001b[38;5;241m=\u001b[39m ast\u001b[38;5;241m.\u001b[39mliteral_eval(all_data[\u001b[38;5;124m'\u001b[39m\u001b[38;5;124mY_vals\u001b[39m\u001b[38;5;124m'\u001b[39m])\n\u001b[1;32m      9\u001b[0m single_cell \u001b[38;5;241m=\u001b[39m all_data\u001b[38;5;241m.\u001b[39mquery(\u001b[38;5;124m'\u001b[39m\u001b[38;5;124munid == 684\u001b[39m\u001b[38;5;124m'\u001b[39m)\n",
      "File \u001b[0;32m~/opt/anaconda3/lib/python3.9/ast.py:105\u001b[0m, in \u001b[0;36mliteral_eval\u001b[0;34m(node_or_string)\u001b[0m\n\u001b[1;32m    103\u001b[0m                 \u001b[38;5;28;01mreturn\u001b[39;00m left \u001b[38;5;241m-\u001b[39m right\n\u001b[1;32m    104\u001b[0m     \u001b[38;5;28;01mreturn\u001b[39;00m _convert_signed_num(node)\n\u001b[0;32m--> 105\u001b[0m \u001b[38;5;28;01mreturn\u001b[39;00m \u001b[43m_convert\u001b[49m\u001b[43m(\u001b[49m\u001b[43mnode_or_string\u001b[49m\u001b[43m)\u001b[49m\n",
      "File \u001b[0;32m~/opt/anaconda3/lib/python3.9/ast.py:104\u001b[0m, in \u001b[0;36mliteral_eval.<locals>._convert\u001b[0;34m(node)\u001b[0m\n\u001b[1;32m    102\u001b[0m         \u001b[38;5;28;01melse\u001b[39;00m:\n\u001b[1;32m    103\u001b[0m             \u001b[38;5;28;01mreturn\u001b[39;00m left \u001b[38;5;241m-\u001b[39m right\n\u001b[0;32m--> 104\u001b[0m \u001b[38;5;28;01mreturn\u001b[39;00m \u001b[43m_convert_signed_num\u001b[49m\u001b[43m(\u001b[49m\u001b[43mnode\u001b[49m\u001b[43m)\u001b[49m\n",
      "File \u001b[0;32m~/opt/anaconda3/lib/python3.9/ast.py:78\u001b[0m, in \u001b[0;36mliteral_eval.<locals>._convert_signed_num\u001b[0;34m(node)\u001b[0m\n\u001b[1;32m     76\u001b[0m     \u001b[38;5;28;01melse\u001b[39;00m:\n\u001b[1;32m     77\u001b[0m         \u001b[38;5;28;01mreturn\u001b[39;00m \u001b[38;5;241m-\u001b[39m operand\n\u001b[0;32m---> 78\u001b[0m \u001b[38;5;28;01mreturn\u001b[39;00m \u001b[43m_convert_num\u001b[49m\u001b[43m(\u001b[49m\u001b[43mnode\u001b[49m\u001b[43m)\u001b[49m\n",
      "File \u001b[0;32m~/opt/anaconda3/lib/python3.9/ast.py:69\u001b[0m, in \u001b[0;36mliteral_eval.<locals>._convert_num\u001b[0;34m(node)\u001b[0m\n\u001b[1;32m     67\u001b[0m \u001b[38;5;28;01mdef\u001b[39;00m \u001b[38;5;21m_convert_num\u001b[39m(node):\n\u001b[1;32m     68\u001b[0m     \u001b[38;5;28;01mif\u001b[39;00m \u001b[38;5;129;01mnot\u001b[39;00m \u001b[38;5;28misinstance\u001b[39m(node, Constant) \u001b[38;5;129;01mor\u001b[39;00m \u001b[38;5;28mtype\u001b[39m(node\u001b[38;5;241m.\u001b[39mvalue) \u001b[38;5;129;01mnot\u001b[39;00m \u001b[38;5;129;01min\u001b[39;00m (\u001b[38;5;28mint\u001b[39m, \u001b[38;5;28mfloat\u001b[39m, \u001b[38;5;28mcomplex\u001b[39m):\n\u001b[0;32m---> 69\u001b[0m         \u001b[43m_raise_malformed_node\u001b[49m\u001b[43m(\u001b[49m\u001b[43mnode\u001b[49m\u001b[43m)\u001b[49m\n\u001b[1;32m     70\u001b[0m     \u001b[38;5;28;01mreturn\u001b[39;00m node\u001b[38;5;241m.\u001b[39mvalue\n",
      "File \u001b[0;32m~/opt/anaconda3/lib/python3.9/ast.py:66\u001b[0m, in \u001b[0;36mliteral_eval.<locals>._raise_malformed_node\u001b[0;34m(node)\u001b[0m\n\u001b[1;32m     65\u001b[0m \u001b[38;5;28;01mdef\u001b[39;00m \u001b[38;5;21m_raise_malformed_node\u001b[39m(node):\n\u001b[0;32m---> 66\u001b[0m     \u001b[38;5;28;01mraise\u001b[39;00m \u001b[38;5;167;01mValueError\u001b[39;00m(\u001b[38;5;124mf\u001b[39m\u001b[38;5;124m'\u001b[39m\u001b[38;5;124mmalformed node or string: \u001b[39m\u001b[38;5;132;01m{\u001b[39;00mnode\u001b[38;5;132;01m!r}\u001b[39;00m\u001b[38;5;124m'\u001b[39m)\n",
      "\u001b[0;31mValueError\u001b[0m: malformed node or string: 0       [0.   0.15 0.3  0.45 0.6  0.75 0.9  1.05 1.2  ...\n1       [0.   0.15 0.3  0.45 0.6  0.75 0.9  1.05 1.2  ...\n2       [0.   0.15 0.3  0.45 0.6  0.75 0.9  1.05 1.2  ...\n3       [0.   0.15 0.3  0.45 0.6  0.75 0.9  1.05 1.2  ...\n4       [0.   0.15 0.3  0.45 0.6  0.75 0.9  1.05 1.2  ...\n                              ...                        \n2739    [ 0.    0.15  0.3   0.45  0.6   0.75  0.9   1....\n2740    [ 0.    0.15  0.3   0.45  0.6   0.75  0.9   1....\n2741    [ 0.    0.15  0.3   0.45  0.6   0.75  0.9   1....\n2742    [ 0.    0.15  0.3   0.45  0.6   0.75  0.9   1....\n2743    [ 0.    0.15  0.3   0.45  0.6   0.75  0.9   1....\nName: X_vals, Length: 2744, dtype: object"
     ]
    }
   ],
   "source": [
    "from scipy.signal import find_peaks\n",
    "\n",
    "single_cell = all_data.query('unid == 684')\n",
    "plot_single_cell(single_cell)"
   ]
  }
 ],
 "metadata": {
  "kernelspec": {
   "display_name": "base",
   "language": "python",
   "name": "python3"
  },
  "language_info": {
   "codemirror_mode": {
    "name": "ipython",
    "version": 3
   },
   "file_extension": ".py",
   "mimetype": "text/x-python",
   "name": "python",
   "nbconvert_exporter": "python",
   "pygments_lexer": "ipython3",
   "version": "3.9.17"
  }
 },
 "nbformat": 4,
 "nbformat_minor": 2
}
